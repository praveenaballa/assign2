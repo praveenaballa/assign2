{
 "cells": [
  {
   "cell_type": "code",
   "execution_count": 1,
   "id": "f630981b",
   "metadata": {},
   "outputs": [
    {
     "name": "stdout",
     "output_type": "stream",
     "text": [
      "Sum of all element in list a : 241\n",
      "Product of all elements in list a : 241768800\n"
     ]
    }
   ],
   "source": [
    "def myreduce(fun, alist):\n",
    "    x = alist[0]\n",
    "    for i in range(1, len(alist)):\n",
    "        x = fun(x, alist[i])\n",
    "    return x\n",
    "def summ(x1, x2):\n",
    "    return x1 + x2\n",
    "\n",
    "def Product(x1, x2):\n",
    "    return(x1 * x2)\n",
    "a = [41,42,45,48,65]\n",
    "\n",
    "print(\"Sum of all element in list a :\", myreduce(summ, a))\n",
    "print(\"Product of all elements in list a :\", myreduce(Product, a))"
   ]
  },
  {
   "cell_type": "code",
   "execution_count": 7,
   "id": "2b2dc5d2",
   "metadata": {},
   "outputs": [
    {
     "name": "stdout",
     "output_type": "stream",
     "text": [
      "[5, 10]\n",
      "[21, 23, 25, 27, 29]\n"
     ]
    }
   ],
   "source": [
    "def myfilter(f, lst):\n",
    "    x = []\n",
    "    y = []\n",
    "    \n",
    "    for i in lst:\n",
    "        x.append(f(i))\n",
    "    for i in range(0, len(x)):\n",
    "        if x[i] == False:\n",
    "            continue\n",
    "        else:\n",
    "            y.append(x[i])\n",
    "    return y\n",
    "        \n",
    "def multiple_five(i):\n",
    "    \n",
    "    if i%5==0:\n",
    "        return i\n",
    "    \n",
    "    else:\n",
    "        return False\n",
    "\n",
    "def odd_number(i):\n",
    "    if i%2 == 1:\n",
    "        return i\n",
    "    else:\n",
    "         return False\n",
    "\n",
    "print(myfilter(multiple_five, [1,2,3,4,5,6,7,8,9,10]))\n",
    "print(myfilter(odd_number,[21,22,23,24,25,26,27,28,29,30]))"
   ]
  },
  {
   "cell_type": "code",
   "execution_count": 8,
   "id": "3d749007",
   "metadata": {},
   "outputs": [
    {
     "name": "stdout",
     "output_type": "stream",
     "text": [
      "['A', 'C', 'A', 'D', 'G', 'I', 'L', 'D']\n",
      "['x', 'xx', 'xxx', 'xxxx', 'y', 'yy', 'yyy', 'yyyy', 'z', 'zz', 'zzz', 'zzzz']\n",
      "['x', 'y', 'z', 'xx', 'yy', 'zz', 'xxx', 'yyy', 'zzz', 'xxxx', 'yyyy', 'zzzz']\n",
      "[[2], [3], [4], [3], [4], [5], [4], [5], [6]]\n",
      "[[2, 3, 4, 5], [3, 4, 5, 6], [4, 5, 6, 7], [5, 6, 7, 8]]\n",
      "[(1, 1), (2, 1), (3, 1), (1, 2), (2, 2), (3, 2), (1, 3), (2, 3), (3, 3)]\n"
     ]
    }
   ],
   "source": [
    "l = [i for i in 'ACADGILD']\n",
    "print(l) \n",
    "l1 = [i * j for j in ['x', 'y', 'z'] for i in range(1, 5)]\n",
    "print(l1)\n",
    "l2 = [i * j for j in range(1, 5) for i in ['x', 'y', 'z']]\n",
    "print(l2)\n",
    "l3 = [[i + j] for j in [0, 1, 2] for i in range(2, 5)]\n",
    "print(l3)\n",
    "l4 = [[i + j for j in [0, 1, 2, 3]] for i in range(2, 6)]\n",
    "print(l4)\n",
    "l5 = [(i,j) for j in [1, 2, 3] for i in [1, 2, 3]]\n",
    "print(l5)"
   ]
  },
  {
   "cell_type": "code",
   "execution_count": 9,
   "id": "aa6f9683",
   "metadata": {},
   "outputs": [
    {
     "name": "stdout",
     "output_type": "stream",
     "text": [
      "List of words:['praveena', 'simitha', 'tanishka', 'dolly', 'surya', 'jyoshna']\n",
      "List of wordlength:[8, 7, 8, 5, 5, 7]\n"
     ]
    }
   ],
   "source": [
    "lst = ['praveena','simitha','tanishka','dolly','surya','jyoshna']\n",
    " \n",
    "numbers = []\n",
    " \n",
    "for i in range(len(lst)):\n",
    "    numbers.append(len(lst[i]))\n",
    " \n",
    "print(\"List of words:\"+str(lst))    \n",
    "print(\"List of wordlength:\"+str(numbers))"
   ]
  },
  {
   "cell_type": "code",
   "execution_count": 31,
   "id": "03792540",
   "metadata": {},
   "outputs": [
    {
     "name": "stdout",
     "output_type": "stream",
     "text": [
      "51.521233486786784\n",
      "There are 3 sides.\n"
     ]
    }
   ],
   "source": [
    "class Polygon:\n",
    "\n",
    "    def __init__(self, n):\n",
    "        self.number_of_sides = n\n",
    "    def print_num_sides(self):\n",
    "        print('There are ' + str(self.number_of_sides) + ' sides.')   \n",
    "class Triangle(Polygon):\n",
    "    def __init__(self, lengths_of_sides):\n",
    "        Polygon.__init__(self, 3)\n",
    "        self.lengths_of_sides = lengths_of_sides  \n",
    "    def get_area(self):\n",
    "        a, b, c = self.lengths_of_sides\n",
    "        s = (a + b + c) / 2\n",
    "        return (s*(s-a)*(s-b)*(s-c)) ** 0.5\n",
    "tri = Triangle([10,11,12])\n",
    "print(tri.get_area())\n",
    "tri.print_num_sides()"
   ]
  },
  {
   "cell_type": "code",
   "execution_count": 36,
   "id": "1cf0a6a4",
   "metadata": {},
   "outputs": [
    {
     "data": {
      "text/plain": [
       "['praveena', 'simitha', 'tanishka', 'jyoshna']"
      ]
     },
     "execution_count": 36,
     "metadata": {},
     "output_type": "execute_result"
    }
   ],
   "source": [
    "def filter_long_words(words, n):\n",
    "    return filter(lambda x: len(x) > n, words)\n",
    "list(filter_long_words(['praveena','simitha','tanishka','dolly','surya','jyoshna'], 5))"
   ]
  },
  {
   "cell_type": "code",
   "execution_count": 33,
   "id": "58a664b9",
   "metadata": {},
   "outputs": [
    {
     "name": "stdout",
     "output_type": "stream",
     "text": [
      "[8, 7, 8, 5, 5, 7]\n",
      "[8, 7, 8, 5, 5, 7]\n"
     ]
    }
   ],
   "source": [
    "def map_to_lengths_for(words):\n",
    "    lengths = []\n",
    "    for word in words:\n",
    "        lengths.append(len(word))\n",
    "    return lengths\n",
    "def map_to_lengths_map(words):\n",
    "    return map(len, words)\n",
    "def map_to_lengths_lists(words):\n",
    "    return [len(word) for word in words]\n",
    "if __name__ == \"__main__\":\n",
    "    words = ['praveena','simitha','tanishka','dolly','surya','jyoshna']\n",
    "    print(map_to_lengths_for(words))\n",
    "    list(map_to_lengths_map(words))\n",
    "    print(map_to_lengths_lists(words))"
   ]
  },
  {
   "cell_type": "code",
   "execution_count": 40,
   "id": "ae9cd5f8",
   "metadata": {},
   "outputs": [
    {
     "name": "stdout",
     "output_type": "stream",
     "text": [
      "False\n",
      "True\n",
      "False\n"
     ]
    }
   ],
   "source": [
    "def is_vowel(char):\n",
    "    vowels = ('a', 'e', 'i', 'o', 'u')\n",
    "    if char not in vowels:\n",
    "        return False\n",
    "    return True\n",
    "if __name__ == \"__main__\":\n",
    "    print(is_vowel(1))\n",
    "    print(is_vowel('a'))\n",
    "    print(is_vowel('b'))"
   ]
  },
  {
   "cell_type": "code",
   "execution_count": null,
   "id": "acf564b3",
   "metadata": {},
   "outputs": [],
   "source": []
  }
 ],
 "metadata": {
  "kernelspec": {
   "display_name": "Python 3 (ipykernel)",
   "language": "python",
   "name": "python3"
  },
  "language_info": {
   "codemirror_mode": {
    "name": "ipython",
    "version": 3
   },
   "file_extension": ".py",
   "mimetype": "text/x-python",
   "name": "python",
   "nbconvert_exporter": "python",
   "pygments_lexer": "ipython3",
   "version": "3.11.4"
  }
 },
 "nbformat": 4,
 "nbformat_minor": 5
}
